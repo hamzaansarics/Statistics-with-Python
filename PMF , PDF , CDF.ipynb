{
 "cells": [
  {
   "cell_type": "code",
   "execution_count": 1,
   "metadata": {},
   "outputs": [],
   "source": [
    "import numpy as np\n",
    "import pandas as pd\n",
    "import matplotlib.pyplot as plt\n",
    "import scipy.stats as st\n",
    "import seaborn as sns\n",
    "from IPython.display import Image"
   ]
  },
  {
   "cell_type": "code",
   "execution_count": 2,
   "metadata": {},
   "outputs": [],
   "source": [
    "# 516409\n",
    "# 635896"
   ]
  },
  {
   "cell_type": "markdown",
   "metadata": {},
   "source": [
    "### PMF\n",
    "- probability mass function is used to distribute the probability of discrete random variables\n",
    "- discrete random variables are those which can be countable\n",
    "- Example\n",
    "- tossing a coins , count of class students , rolling a dice \n",
    "\n",
    "###### We are using binomial distribution\n",
    "- Suppose we tossed 3 coins at the same time what will be the probability of getting 2 heads?\n",
    "\n",
    "###### We will use simple example for  calculating every thing by self!"
   ]
  },
  {
   "cell_type": "code",
   "execution_count": 3,
   "metadata": {},
   "outputs": [],
   "source": [
    "n=3 # Total Tirals as 3\n",
    "x=2 # How much piciking success trials as 2 heads\n",
    "p=0.5 # Success probability of equal prob\n",
    "q=1-p # Failure probability"
   ]
  },
  {
   "cell_type": "code",
   "execution_count": 4,
   "metadata": {},
   "outputs": [],
   "source": [
    "#Writing own formula i already written in Probability Distribution notebook\n",
    "# P(H) = (factorial(n)/factorial(n-x)*factorial(x))*power(p,x)*power(q,n-x)"
   ]
  },
  {
   "cell_type": "code",
   "execution_count": 5,
   "metadata": {},
   "outputs": [],
   "source": [
    "Prob_head=(6/2)*(np.power(p,x)*np.power(q,n-x))"
   ]
  },
  {
   "cell_type": "code",
   "execution_count": 6,
   "metadata": {},
   "outputs": [
    {
     "data": {
      "text/plain": [
       "0.375"
      ]
     },
     "execution_count": 6,
     "metadata": {},
     "output_type": "execute_result"
    }
   ],
   "source": [
    "# Probability of getting two heads at same time is\n",
    "Prob_head"
   ]
  },
  {
   "cell_type": "code",
   "execution_count": 7,
   "metadata": {},
   "outputs": [],
   "source": [
    "# The probabilityis find out with the help of PMF function as Binomial Dist"
   ]
  },
  {
   "cell_type": "code",
   "execution_count": 8,
   "metadata": {},
   "outputs": [],
   "source": [
    "# These probabilites written from sample space which is 8 and getting 1 head \n",
    "# 2 head 3 head  proabilities...\n",
    "all_probabilities=np.array([1/8,3/8,3/8,1/8])\n",
    "data_x=np.array([0,1,2,3])\n"
   ]
  },
  {
   "cell_type": "code",
   "execution_count": 9,
   "metadata": {},
   "outputs": [
    {
     "data": {
      "text/plain": [
       "<BarContainer object of 4 artists>"
      ]
     },
     "execution_count": 9,
     "metadata": {},
     "output_type": "execute_result"
    },
    {
     "data": {
      "image/png": "[encoded data removed]",
      "text/plain": [
       "<Figure size 432x288 with 1 Axes>"
      ]
     },
     "metadata": {
      "needs_background": "light"
     },
     "output_type": "display_data"
    }
   ],
   "source": [
    "plt.xticks([0,1,2,3])\n",
    "plt.xlabel('Number of Headas')\n",
    "plt.ylabel('Probababilites of getting heads')\n",
    "plt.bar(data_x,all_probabilities)\n",
    "# sns.jointplot(data_x,all_probabilities)"
   ]
  },
  {
   "cell_type": "markdown",
   "metadata": {},
   "source": [
    "### PDF\n",
    "- Probability Density Function (PDF) is used to distribute the probability of Continuous random variables\n",
    "- Continuous random variables are those which can't be count but they can measure \n",
    "- Example\n",
    "- Measuring of heights of students time , Spenting time On YouTube , finding area of specific point "
   ]
  },
  {
   "cell_type": "code",
   "execution_count": 43,
   "metadata": {},
   "outputs": [],
   "source": [
    "# Student T Distribution , Chi Square , F Distriubutions are PDF"
   ]
  },
  {
   "cell_type": "markdown",
   "metadata": {},
   "source": [
    "### CDF\n",
    "- Cummulative Distribution Function are used to sum the distribution one to next"
   ]
  },
  {
   "cell_type": "code",
   "execution_count": null,
   "metadata": {},
   "outputs": [],
   "source": [
    "Image(r'C:\\Users\\H A M Z A\\Downloads\\cdf.png')"
   ]
  },
  {
   "cell_type": "code",
   "execution_count": null,
   "metadata": {},
   "outputs": [],
   "source": []
  },
  {
   "cell_type": "code",
   "execution_count": null,
   "metadata": {},
   "outputs": [],
   "source": []
  },
  {
   "cell_type": "code",
   "execution_count": null,
   "metadata": {},
   "outputs": [],
   "source": []
  },
  {
   "cell_type": "code",
   "execution_count": null,
   "metadata": {},
   "outputs": [],
   "source": []
  }
 ],
 "metadata": {
  "kernelspec": {
   "display_name": "Python 3",
   "language": "python",
   "name": "python3"
  },
  "language_info": {
   "codemirror_mode": {
    "name": "ipython",
    "version": 3
   },
   "file_extension": ".py",
   "mimetype": "text/x-python",
   "name": "python",
   "nbconvert_exporter": "python",
   "pygments_lexer": "ipython3",
   "version": "3.7.3"
  }
 },
 "nbformat": 4,
 "nbformat_minor": 2
}
