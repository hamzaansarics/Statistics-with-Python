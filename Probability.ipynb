{
 "cells": [
  {
   "cell_type": "code",
   "execution_count": 89,
   "metadata": {},
   "outputs": [],
   "source": [
    "import numpy as np"
   ]
  },
  {
   "cell_type": "markdown",
   "metadata": {},
   "source": [
    "#### Probability\n",
    "- Number of getting a chance of value from whole possible values is called probability\n",
    "    - Perspective\n",
    "        - Classical Probability\n",
    "        - Empirical Probability\n",
    "        - Subjective Probability\n",
    "    - Types\n",
    "        - Singular Probability\n",
    "        - Margin Probability\n",
    "        - Conditional Probability"
   ]
  },
  {
   "cell_type": "markdown",
   "metadata": {},
   "source": [
    "### Perspective "
   ]
  },
  {
   "cell_type": "markdown",
   "metadata": {},
   "source": [
    "#### Classical Probability\n",
    "- a probability that has equal chance of getting a particular value from all possible values\n",
    "- Example\n",
    "- Dice a roll\n",
    "- picking card from deck"
   ]
  },
  {
   "cell_type": "code",
   "execution_count": 90,
   "metadata": {},
   "outputs": [],
   "source": [
    "dice=np.array([1,2,3,4,5,6])\n",
    "# P=x/size\n",
    "# X showing the count of a particual number , as 1 has single count\n",
    "# Size showing the total number of element in a particular array"
   ]
  },
  {
   "cell_type": "code",
   "execution_count": 91,
   "metadata": {},
   "outputs": [
    {
     "data": {
      "text/plain": [
       "3"
      ]
     },
     "execution_count": 91,
     "metadata": {},
     "output_type": "execute_result"
    }
   ],
   "source": [
    "# We have to find the probability of 5 \n",
    "# count of 5 is only 1 and size of array is 6 so prob. is \n",
    "p=1/dice.shape[0]\n",
    "p\n",
    "#0.17 probability to get 5\n",
    "np.take(dice,np.random.randint(0,6,1))[0]"
   ]
  },
  {
   "cell_type": "code",
   "execution_count": 92,
   "metadata": {},
   "outputs": [],
   "source": [
    "gender=np.array(['Male','Female','Shemale'])"
   ]
  },
  {
   "cell_type": "code",
   "execution_count": 93,
   "metadata": {},
   "outputs": [
    {
     "data": {
      "text/plain": [
       "0.3333333333333333"
      ]
     },
     "execution_count": 93,
     "metadata": {},
     "output_type": "execute_result"
    }
   ],
   "source": [
    "# Proability of Male is \n",
    "p=1/3\n",
    "p"
   ]
  },
  {
   "cell_type": "code",
   "execution_count": 94,
   "metadata": {},
   "outputs": [
    {
     "data": {
      "text/plain": [
       "'Female'"
      ]
     },
     "execution_count": 94,
     "metadata": {},
     "output_type": "execute_result"
    }
   ],
   "source": [
    "# 0.3333 Probability to get Male\n",
    "np.take(gender,np.random.randint(0,3,1))[0]"
   ]
  },
  {
   "cell_type": "markdown",
   "metadata": {},
   "source": [
    "#### Empirical Probability\n",
    "- Empirical Probability Which found from our own Experience \n",
    "- Example\n",
    "- in a hospital 5 patient of A+ Blood Group 10 of B+ 15 of AB+ 25 of O+ and 30 of A- and 15 of B- are admited so doctor want to visit those paitent randomly what is the probablity of AB+ that doctor will visit these type of paitents?"
   ]
  },
  {
   "cell_type": "code",
   "execution_count": 95,
   "metadata": {},
   "outputs": [],
   "source": [
    "ab_positive=25\n",
    "total_patient=100\n",
    "p=ab_positive/total_patient"
   ]
  },
  {
   "cell_type": "code",
   "execution_count": 96,
   "metadata": {},
   "outputs": [
    {
     "data": {
      "text/plain": [
       "0.25"
      ]
     },
     "execution_count": 96,
     "metadata": {},
     "output_type": "execute_result"
    }
   ],
   "source": [
    "p\n",
    "# so the chances of 25% to visit AB+ paitents so this is called empirical probability"
   ]
  },
  {
   "cell_type": "code",
   "execution_count": 97,
   "metadata": {},
   "outputs": [],
   "source": [
    "o_positive=30\n",
    "total_patient=100\n",
    "p=o_positive/total_patient"
   ]
  },
  {
   "cell_type": "code",
   "execution_count": 98,
   "metadata": {},
   "outputs": [
    {
     "data": {
      "text/plain": [
       "0.3"
      ]
     },
     "execution_count": 98,
     "metadata": {},
     "output_type": "execute_result"
    }
   ],
   "source": [
    "p\n",
    "# so the chances of 30% to visit O+ paitents so this is called empirical probability"
   ]
  },
  {
   "cell_type": "markdown",
   "metadata": {},
   "source": [
    "#### Subjective Probability\n",
    "- in this type of probability we use our old experice to define a probability \n",
    "- Example\n",
    "- Pak vs Ind World Cup cricket match we guess 10% chances that Pak team will win \n",
    "- Medication Condition of Patient Dr. tell how much chance to survive this paitent so this is called Subjective Probability that's may be true of wrong\n"
   ]
  },
  {
   "cell_type": "markdown",
   "metadata": {},
   "source": [
    "### Types"
   ]
  },
  {
   "cell_type": "markdown",
   "metadata": {},
   "source": [
    "#### Marginal Probability\n",
    "- we get single thing to find the probability of a item\n",
    "- Example\n",
    "- What is the probability of heart cards from Deck cards\n",
    "- P(A)=x/N"
   ]
  },
  {
   "cell_type": "code",
   "execution_count": 99,
   "metadata": {},
   "outputs": [],
   "source": [
    "heart_card=13\n",
    "deck_card=53\n",
    "p=heart_card/deck_card"
   ]
  },
  {
   "cell_type": "code",
   "execution_count": 100,
   "metadata": {},
   "outputs": [
    {
     "data": {
      "text/plain": [
       "0.24528301886792453"
      ]
     },
     "execution_count": 100,
     "metadata": {},
     "output_type": "execute_result"
    }
   ],
   "source": [
    "p"
   ]
  },
  {
   "cell_type": "markdown",
   "metadata": {},
   "source": [
    "#### Joint Probability\n",
    "- when two event happens at the same time called joint probability\n",
    "- example\n",
    "- J and K cards probability from Deck cards"
   ]
  },
  {
   "cell_type": "code",
   "execution_count": 101,
   "metadata": {},
   "outputs": [],
   "source": [
    "# suppose J and K 7 Count\n",
    "j=4\n",
    "k=7\n",
    "size=52\n",
    "p=(j+k)/size"
   ]
  },
  {
   "cell_type": "code",
   "execution_count": 102,
   "metadata": {},
   "outputs": [
    {
     "data": {
      "text/plain": [
       "0.21153846153846154"
      ]
     },
     "execution_count": 102,
     "metadata": {},
     "output_type": "execute_result"
    }
   ],
   "source": [
    "p"
   ]
  },
  {
   "cell_type": "markdown",
   "metadata": {},
   "source": [
    "#### Conditional Probability\n",
    "- When a event depend on the other event they are called conditional probability\n",
    "- Example\n",
    "- when we pick heart cards from deck and don't replace then the probalitly of other events will be less"
   ]
  },
  {
   "cell_type": "code",
   "execution_count": 103,
   "metadata": {},
   "outputs": [],
   "source": [
    "# we pick heart card and don't replace then\n",
    "hearts = 13\n",
    "deck=52\n",
    "remaining=deck-hearts"
   ]
  },
  {
   "cell_type": "code",
   "execution_count": 104,
   "metadata": {},
   "outputs": [
    {
     "data": {
      "text/plain": [
       "39"
      ]
     },
     "execution_count": 104,
     "metadata": {},
     "output_type": "execute_result"
    }
   ],
   "source": [
    "remaining"
   ]
  },
  {
   "cell_type": "code",
   "execution_count": 106,
   "metadata": {},
   "outputs": [
    {
     "data": {
      "text/plain": [
       "0.1794871794871795"
      ]
     },
     "execution_count": 106,
     "metadata": {},
     "output_type": "execute_result"
    }
   ],
   "source": [
    "# We finding the probability of K from remaining probability\n",
    "k=7\n",
    "re_deck=39\n",
    "p=k/re_deck\n",
    "p"
   ]
  },
  {
   "cell_type": "code",
   "execution_count": 107,
   "metadata": {},
   "outputs": [],
   "source": [
    "# so the probability is 0.18 without replacement"
   ]
  },
  {
   "cell_type": "code",
   "execution_count": 108,
   "metadata": {},
   "outputs": [],
   "source": [
    "k=7\n",
    "deck=52\n",
    "p=k/deck"
   ]
  },
  {
   "cell_type": "code",
   "execution_count": 109,
   "metadata": {},
   "outputs": [
    {
     "data": {
      "text/plain": [
       "0.1346153846153846"
      ]
     },
     "execution_count": 109,
     "metadata": {},
     "output_type": "execute_result"
    }
   ],
   "source": [
    "p"
   ]
  },
  {
   "cell_type": "code",
   "execution_count": 110,
   "metadata": {},
   "outputs": [],
   "source": [
    "# with replacement probability is 0.14 "
   ]
  },
  {
   "cell_type": "code",
   "execution_count": null,
   "metadata": {},
   "outputs": [],
   "source": []
  }
 ],
 "metadata": {
  "kernelspec": {
   "display_name": "Python 3",
   "language": "python",
   "name": "python3"
  },
  "language_info": {
   "codemirror_mode": {
    "name": "ipython",
    "version": 3
   },
   "file_extension": ".py",
   "mimetype": "text/x-python",
   "name": "python",
   "nbconvert_exporter": "python",
   "pygments_lexer": "ipython3",
   "version": "3.7.3"
  }
 },
 "nbformat": 4,
 "nbformat_minor": 2
}
